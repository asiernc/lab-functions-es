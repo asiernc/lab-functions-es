{
 "cells": [
  {
   "cell_type": "markdown",
   "metadata": {},
   "source": [
    "# Functions"
   ]
  },
  {
   "cell_type": "markdown",
   "metadata": {},
   "source": [
    "En este laboratorio pondremos en práctica algunos de los conceptos que hemos aprendido en los últimos días.\n",
    "\n",
    "`NOTA: En este laboratorio deberías intentar escribir todas las funciones por ti mismo utilizando solo la sintaxis más básica de Python y sin funciones como len, count, sum, max, min, in, etc. Dale una oportunidad. 🧑🏻‍💻👩🏻‍💻`\n",
    "\n",
    "La celda después de cada ejercicio contiene algunas pruebas para verificar si tu función funciona como se espera."
   ]
  },
  {
   "cell_type": "code",
   "execution_count": 111,
   "metadata": {},
   "outputs": [],
   "source": [
    "from mod.testing import *\n",
    "import unittest"
   ]
  },
  {
   "cell_type": "markdown",
   "metadata": {},
   "source": [
    "## 1. Escribe una función que devuelva el mayor de dos números"
   ]
  },
  {
   "cell_type": "code",
   "execution_count": null,
   "metadata": {},
   "outputs": [],
   "source": [
    "def greater(a,b):\n",
    "\t# devolvemos a si es mayor a b, sino se devuelve b (ternario)\n",
    "\treturn a if a > b else b\n",
    "#your code here#tu codigo aquí\n"
   ]
  },
  {
   "cell_type": "code",
   "execution_count": 113,
   "metadata": {},
   "outputs": [
    {
     "name": "stderr",
     "output_type": "stream",
     "text": [
      "....................................................................................................\n",
      "----------------------------------------------------------------------\n",
      "Ran 100 tests in 0.074s\n",
      "\n",
      "OK\n"
     ]
    }
   ],
   "source": [
    "# Para testear tu función\n",
    "test_greater(greater)"
   ]
  },
  {
   "cell_type": "markdown",
   "metadata": {},
   "source": [
    "## 2. Ahora escribe una función que devuelva el elemento más"
   ]
  },
  {
   "cell_type": "code",
   "execution_count": 114,
   "metadata": {},
   "outputs": [],
   "source": [
    "#tu codigo aquí\n",
    "def greatest(lst):\n",
    "    num = 0\n",
    "    for i in lst:\n",
    "        if i > num:\n",
    "            num = i\n",
    "    return num"
   ]
  },
  {
   "cell_type": "code",
   "execution_count": 115,
   "metadata": {},
   "outputs": [
    {
     "name": "stderr",
     "output_type": "stream",
     "text": [
      "....................................................................................................\n",
      "----------------------------------------------------------------------\n",
      "Ran 100 tests in 0.014s\n",
      "\n",
      "OK\n"
     ]
    }
   ],
   "source": [
    "# Para testear tu función\n",
    "test_greatest(greatest)"
   ]
  },
  {
   "cell_type": "markdown",
   "metadata": {},
   "source": [
    "## 3. Escribe una función que sume todos los elementos de una lista"
   ]
  },
  {
   "cell_type": "code",
   "execution_count": 116,
   "metadata": {},
   "outputs": [],
   "source": [
    "def sum_all(lst):\n",
    "    sum = 0\n",
    "    for i in lst:\n",
    "        sum += i\n",
    "    return sum\n",
    "#tu codigo aquí"
   ]
  },
  {
   "cell_type": "code",
   "execution_count": 117,
   "metadata": {
    "scrolled": true
   },
   "outputs": [
    {
     "name": "stderr",
     "output_type": "stream",
     "text": [
      "....................................................................................................\n",
      "----------------------------------------------------------------------\n",
      "Ran 100 tests in 0.014s\n",
      "\n",
      "OK\n"
     ]
    }
   ],
   "source": [
    "# Para testear tu función\n",
    "test_sum(sum_all)"
   ]
  },
  {
   "cell_type": "markdown",
   "metadata": {},
   "source": [
    "## 4. Escribe otra función que multiplique todos los elementos de una lista"
   ]
  },
  {
   "cell_type": "code",
   "execution_count": 118,
   "metadata": {},
   "outputs": [],
   "source": [
    "def mult_all(lst):\n",
    "    mult = 1\n",
    "    for i in lst:\n",
    "        mult *= i\n",
    "    return mult\n",
    "#tu codigo aquí"
   ]
  },
  {
   "cell_type": "code",
   "execution_count": 119,
   "metadata": {
    "scrolled": true
   },
   "outputs": [
    {
     "name": "stderr",
     "output_type": "stream",
     "text": [
      "....................................................................................................\n",
      "----------------------------------------------------------------------\n",
      "Ran 100 tests in 0.014s\n",
      "\n",
      "OK\n"
     ]
    }
   ],
   "source": [
    "# Para testear tu función\n",
    "test_mult(mult_all)"
   ]
  },
  {
   "cell_type": "markdown",
   "metadata": {},
   "source": [
    "## 5. Ahora combina esas dos ideas y escribe una función que reciba una lista y ya sea \"+\" o \"*\", y produzca el resultado acorde"
   ]
  },
  {
   "cell_type": "code",
   "execution_count": 120,
   "metadata": {},
   "outputs": [],
   "source": [
    "def oper_all(arr, oper = \"*\"):\n",
    "    if oper == \"*\":\n",
    "        num = 1\n",
    "        for i in arr:\n",
    "            num *= i\n",
    "    elif oper == \"+\":\n",
    "        num = 0\n",
    "        for i in arr:\n",
    "            num += i\n",
    "    else:\n",
    "        num = None\n",
    "    return num\n",
    "#tu codigo aquí"
   ]
  },
  {
   "cell_type": "code",
   "execution_count": 121,
   "metadata": {},
   "outputs": [
    {
     "name": "stderr",
     "output_type": "stream",
     "text": [
      "....................................................................................................\n",
      "----------------------------------------------------------------------\n",
      "Ran 100 tests in 0.027s\n",
      "\n",
      "OK\n"
     ]
    }
   ],
   "source": [
    "# Para testear tu función\n",
    "test_operations(oper_all)"
   ]
  },
  {
   "cell_type": "markdown",
   "metadata": {},
   "source": [
    "## 6. Escribe una función que devuelva el factorial de un número."
   ]
  },
  {
   "cell_type": "code",
   "execution_count": 122,
   "metadata": {},
   "outputs": [],
   "source": [
    "def factorial(n):\n",
    "    # VERSION 1.0\n",
    "\t\t# if n == 0:\n",
    "\t\t#     return 1\n",
    "\t\t# num = 1\n",
    "\t\t# x = [x for x in range(n, 0, -1)]\n",
    "\t\t# for i in x:\n",
    "\t\t#     num *= i\n",
    "    # return num\n",
    "    \n",
    "    # VERSION 2.0\n",
    "\t\t# num2 = 1\n",
    "\t\t# while n != 0:\n",
    "\t\t#     num2 *= n\n",
    "\t\t#     n -= 1\n",
    "\t\t# return num2\n",
    "    \n",
    "    # VERSION 3.0\n",
    "    return 1 if n <= 1 else n * factorial(n - 1)\n"
   ]
  },
  {
   "cell_type": "code",
   "execution_count": 123,
   "metadata": {},
   "outputs": [],
   "source": [
    "# Fórmula factorial\n",
    "# n! = n * (n - 1) *...*1\n",
    "\n",
    "# Este código define una función llamada \"factorial\" que toma una entrada \"n\". La función utiliza un bucle for para iterar a través del rango de números\n",
    "# desde 1 hasta n+1. Para cada número en ese rango, multiplica el valor actual de x por el número en el rango. Al final del bucle,\n",
    "# la función devuelve el valor final de x, que será el factorial del número de entrada \"n\".\n",
    "\n",
    "# El factorial de un entero positivo n es el producto de todos los enteros positivos menores o iguales a n.\n",
    "# Por ejemplo, el factorial de 6 (escrito \"6!\") es 6 * 5 * 4 * 3 * 2 * 1 = 720.\n",
    "\n",
    "# Así que esta función toma una entrada de cualquier entero positivo y devuelve el factorial de ese número."
   ]
  },
  {
   "cell_type": "code",
   "execution_count": 124,
   "metadata": {},
   "outputs": [
    {
     "name": "stderr",
     "output_type": "stream",
     "text": [
      "....................................................................................................\n",
      "----------------------------------------------------------------------\n",
      "Ran 100 tests in 0.015s\n",
      "\n",
      "OK\n"
     ]
    }
   ],
   "source": [
    "# This will test your function \n",
    "test_factorial(factorial)"
   ]
  },
  {
   "cell_type": "markdown",
   "metadata": {},
   "source": [
    "## 7. Escribe una función que tome una lista y devuelva una lista de los valores únicos.\n",
    "\n",
    "`NOTE: No podemos usar set. 🤔`"
   ]
  },
  {
   "cell_type": "code",
   "execution_count": 125,
   "metadata": {},
   "outputs": [],
   "source": [
    "def unique(lst_un):\n",
    "    unic_list = []\n",
    "    for i in lst_un:\n",
    "        flag = False\n",
    "        for j in unic_list:\n",
    "            if i == j:\n",
    "                flag = True\n",
    "                break\n",
    "        if not flag:\n",
    "            unic_list.append(i)\n",
    "    return unic_list\n",
    "#tu codigo aquí"
   ]
  },
  {
   "cell_type": "code",
   "execution_count": 126,
   "metadata": {},
   "outputs": [
    {
     "name": "stderr",
     "output_type": "stream",
     "text": [
      "....................................................................................................\n",
      "----------------------------------------------------------------------\n",
      "Ran 100 tests in 0.084s\n",
      "\n",
      "OK\n"
     ]
    }
   ],
   "source": [
    "# Para testear tu función \n",
    "test_unique(unique)"
   ]
  },
  {
   "cell_type": "markdown",
   "metadata": {},
   "source": [
    "## 8. Escribe una función que devuelva la moda de una lista, es decir: el elemento que aparece más veces.\n",
    "\n",
    "`NOTE: No se debe usar count... 🧐`"
   ]
  },
  {
   "cell_type": "code",
   "execution_count": 127,
   "metadata": {},
   "outputs": [],
   "source": [
    "def mode_counter(arr):\n",
    "    value = \"\"\n",
    "    max_count = 0\n",
    "    for i in arr:\n",
    "        act_count = 0\n",
    "        for j in arr:\n",
    "            if i == j:\n",
    "                act_count += 1\n",
    "        if act_count > max_count:\n",
    "            max_count = act_count\n",
    "            value = i\n",
    "    print(f\"{value}:{max_count}\")\n",
    "    return value\n",
    "#tu codigo aquí"
   ]
  },
  {
   "cell_type": "code",
   "execution_count": 128,
   "metadata": {},
   "outputs": [
    {
     "name": "stderr",
     "output_type": "stream",
     "text": [
      "....................................................................................................\n",
      "----------------------------------------------------------------------\n",
      "Ran 100 tests in 0.092s\n",
      "\n",
      "OK\n"
     ]
    },
    {
     "name": "stdout",
     "output_type": "stream",
     "text": [
      "19:56\n",
      "18:52\n",
      "1:53\n",
      "24:53\n",
      "11:55\n",
      "21:52\n",
      "23:50\n",
      "18:54\n",
      "11:51\n",
      "2:53\n",
      "8:55\n",
      "11:51\n",
      "17:52\n",
      "24:54\n",
      "8:54\n",
      "25:56\n",
      "23:54\n",
      "14:50\n",
      "11:53\n",
      "3:52\n",
      "21:54\n",
      "3:50\n",
      "16:53\n",
      "12:52\n",
      "21:57\n",
      "9:52\n",
      "10:52\n",
      "12:56\n",
      "23:54\n",
      "12:54\n",
      "13:53\n",
      "11:56\n",
      "9:54\n",
      "22:57\n",
      "17:54\n",
      "17:60\n",
      "1:55\n",
      "19:55\n",
      "1:54\n",
      "24:60\n",
      "5:55\n",
      "2:55\n",
      "25:51\n",
      "23:54\n",
      "21:51\n",
      "8:53\n",
      "17:59\n",
      "9:53\n",
      "15:55\n",
      "8:53\n",
      "22:52\n",
      "3:55\n",
      "14:55\n",
      "25:57\n",
      "2:54\n",
      "9:52\n",
      "16:54\n",
      "17:54\n",
      "20:55\n",
      "19:56\n",
      "23:54\n",
      "18:53\n",
      "1:55\n",
      "16:55\n",
      "21:56\n",
      "18:57\n",
      "16:53\n",
      "15:57\n",
      "1:55\n",
      "10:52\n",
      "8:54\n",
      "11:57\n",
      "24:58\n",
      "24:53\n",
      "13:54\n",
      "4:53\n",
      "3:56\n",
      "13:53\n",
      "16:59\n",
      "3:56\n",
      "2:54\n",
      "5:57\n",
      "14:56\n",
      "9:55\n",
      "19:53\n",
      "18:56\n",
      "6:52\n",
      "11:55\n",
      "25:55\n",
      "22:54\n",
      "25:55\n",
      "20:53\n",
      "21:54\n",
      "5:52\n",
      "20:55\n",
      "1:53\n",
      "9:53\n",
      "16:53\n",
      "11:52\n",
      "12:53\n"
     ]
    }
   ],
   "source": [
    "# Para testear tu función \n",
    "test_mode(mode_counter)"
   ]
  },
  {
   "cell_type": "markdown",
   "metadata": {},
   "source": [
    "## 9. Escribe una función que calcule la desviación estándar de una lista.\n",
    "`NOTE: no utilices librerías ni ninguna función ya construida. 😉`"
   ]
  },
  {
   "cell_type": "code",
   "execution_count": 129,
   "metadata": {},
   "outputs": [],
   "source": [
    "import statistics\n",
    "def st_dev(list_sd):\n",
    "    n = 0\n",
    "    for i in list_sd:\n",
    "        n += 1\n",
    "    if n == 0:\n",
    "        return 0\n",
    "    sum = 0\n",
    "    for i in list_sd:\n",
    "        sum += i\n",
    "    mean = sum / n\n",
    "    sum = [ (x - mean) ** 2 for x in list_sd ]\n",
    "    sum_squares = 0\n",
    "    for i in sum:\n",
    "        sum_squares += i\n",
    "    \n",
    "    variance = sum_squares / ( n - 1)\n",
    "    \n",
    "    return variance ** 0.5\n",
    "    \n",
    "#tu codigo aquí"
   ]
  },
  {
   "cell_type": "code",
   "execution_count": 130,
   "metadata": {},
   "outputs": [
    {
     "name": "stderr",
     "output_type": "stream",
     "text": [
      "....................................................................................................\n",
      "----------------------------------------------------------------------\n",
      "Ran 100 tests in 0.016s\n",
      "\n",
      "OK\n"
     ]
    }
   ],
   "source": [
    "# Para testear tu función\n",
    "test_stdev(st_dev)"
   ]
  },
  {
   "cell_type": "markdown",
   "metadata": {},
   "source": [
    "## 10. Escribe una función para verificar si una cadena es un pangrama, es decir: si contiene todas las letras del alfabeto al menos una vez. Ten en cuenta que las cadenas pueden contener caracteres que no son letras."
   ]
  },
  {
   "cell_type": "code",
   "execution_count": null,
   "metadata": {},
   "outputs": [],
   "source": [
    "def pangram(string):\n",
    "    abc = \"abcdefghijklmnopqrstuvwxyz\"\n",
    "    for letter in abc:\n",
    "        found = False\n",
    "        for c in string:\n",
    "            if c.lower() == letter:\n",
    "                found = True\n",
    "                break\n",
    "        if not found:\n",
    "            return False\n",
    "    return True\n"
   ]
  },
  {
   "cell_type": "code",
   "execution_count": 138,
   "metadata": {},
   "outputs": [
    {
     "name": "stderr",
     "output_type": "stream",
     "text": [
      "..............................\n",
      "----------------------------------------------------------------------\n",
      "Ran 30 tests in 0.013s\n",
      "\n",
      "OK\n"
     ]
    },
    {
     "name": "stdout",
     "output_type": "stream",
     "text": [
      "Waltz, nymph, for quick jigs vex Bud.\n",
      "Sphinx of black quartz, judge my vow.\n",
      "Pack my box with five dozen liquor jugs.\n",
      "Glib jocks quiz nymph to vex dwarf.\n",
      "Jackdaws love my big sphinx of quartz.\n",
      "The five boxing wizards jump quickly.\n",
      "How vexingly quick daft zebras jump!\n",
      "Quick zephyrs blow, vexing daft Jim.\n",
      "Two driven jocks help fax my big quiz.\n",
      "The jay, pig, fox, zebra and my wolves quack!\n",
      "Sympathizing would fix Quaker objectives.\n",
      "A wizard's job is to vex chumps quickly in fog.\n",
      "Watch 'Jeopardy!', Alex Trebek's fun TV quiz game.\n",
      "By Jove, my quick study of lexicography won a prize!\n",
      "Waxy and quivering, jocks fumble the pizza.\n",
      "yihbndsonchslfrytyncqszqwzcoeemhiofzpzxaidxcfcgtarahobnqkkelfqrgfhzprsy\n",
      "rdjzrmahvwekfrurnidugwecl\n",
      "wtmdjtyoqatldsqjrwzwjmudamucjmphtohlpjmcyljjzwntslfallcanxlwopbrqvcbgfzeycuuxtfbayboznpz\n",
      "tmcdqqhgfhgsimysnfndlnzrqaiqcfsxisrxvlfmgnjfiklynoryntfqeumqcvlvcgr\n",
      "cvlmbnmpmixorueyogmqerhcafywtplfgbyjxtzzshbcuwdywknxenamqiqwhhzhc\n",
      "rjrnxqudqvvywlchxkshcjeqkqdzhwhcckituuzzqidppwostpdxeinpiuzmsmvhwahjhvsucbil\n",
      "iwnalvrcileykucgjmyzqgpcvyqdehkixxhuplupckkbdgmlevinbrkunfqxjhnyqof\n",
      "ggylvayttlnyogkshnnwvteouxuytbvrkzglxvoxdsaibjfegknzxnevrqumoqscercbymgzncwazx\n",
      "lvjtjneetgquyjaifygxagssjf\n",
      "vojdgrgczqilririfsbkneebpertocb\n",
      "rqrmdufhjgicmakmtmjowoybajicrlomkwjpntxovfpypsnohezvjprxddogkdcdpgljvjucgzbbzuhtapmxwzdmamyg\n",
      "mpmrhsmqfeiyjhdsfhqagkvkjqkoijtufwrofkvnqbxsyfstwzthmhezqqwnlcizwqwr\n",
      "ebgvrlqfdhmcifhcrowgixvxrduwzmyu\n",
      "stvoygtvrhhkdfaaqgkooqcqxvwfwuuqdfenhjxokmj\n",
      "bvkbjyvwcgdiuuqnwfvtatnnihsulmtnaurzjwjxsaingnlxcvwooqkpyutcxbx\n"
     ]
    }
   ],
   "source": [
    "# Para testear tu función\n",
    "test_pangram(pangram)"
   ]
  },
  {
   "cell_type": "markdown",
   "metadata": {},
   "source": [
    "## 11. Escribe una función que reciba una cadena de palabras separadas por comas y devuelva una cadena de palabras separadas por comas ordenadas alfabéticamente.\n",
    "\n",
    "`NOTA: Puedes usar sorted pero no split y definitivamente no join! 🤪`"
   ]
  },
  {
   "cell_type": "code",
   "execution_count": 167,
   "metadata": {},
   "outputs": [],
   "source": [
    "def ft_split(string, sep):\n",
    "    strr = \"\"\n",
    "    lst = []\n",
    "    for c in string:\n",
    "        if c == sep:\n",
    "            lst.append(strr)\n",
    "            strr = \"\"\n",
    "            continue\n",
    "        strr += c\n",
    "    lst.append(strr)\n",
    "    return lst\n",
    "\n",
    "def ft_join(lst, sep):\n",
    "    strr = \"\"\n",
    "    for s in lst:\n",
    "        strr += s + sep\n",
    "    return strr[:-1]\n",
    "\n",
    "def sort_alpha(string):\n",
    "    lst = ft_split(string, ',')\n",
    "    lst = sorted(lst)\n",
    "    strr = ft_join(lst, sep=',')\n",
    "    return strr"
   ]
  },
  {
   "cell_type": "code",
   "execution_count": 168,
   "metadata": {},
   "outputs": [
    {
     "name": "stderr",
     "output_type": "stream",
     "text": [
      "....................................................................................................\n",
      "----------------------------------------------------------------------\n",
      "Ran 100 tests in 0.030s\n",
      "\n",
      "OK\n"
     ]
    }
   ],
   "source": [
    "# Para testear tu función \n",
    "test_alpha(sort_alpha)"
   ]
  },
  {
   "cell_type": "markdown",
   "metadata": {},
   "source": [
    "## 12. Escribe una función para verificar si una contraseña dada es fuerte (al menos 8 caracteres, al menos una minúscula, al menos una mayúscula, al menos un número y al menos un carácter especial). Debería devolver True si es fuerte y False si no lo es."
   ]
  },
  {
   "cell_type": "markdown",
   "metadata": {},
   "source": []
  },
  {
   "cell_type": "code",
   "execution_count": 191,
   "metadata": {},
   "outputs": [],
   "source": [
    "def ft_strlen(str):\n",
    "    len = 0\n",
    "    for c in str:\n",
    "        len += 1\n",
    "    return len\n",
    "\n",
    "def check(c, str):\n",
    "\tfor ch in str:\n",
    "\t\tif c == ch:\n",
    "\t\t\treturn True\n",
    "\treturn False\n",
    "\n",
    "def check_pass(password):\n",
    "    len = ft_strlen(password)\n",
    "    has_upper = False\n",
    "    has_digits = False\n",
    "    has_lower = False\n",
    "    has_special = False\n",
    "    \n",
    "    for c in password:\n",
    "        if check(c, \"ABCDEFGHIJKLMNOPQRSTUVWXYZ\"):\n",
    "            has_upper = True\n",
    "        if check(c, \"abcdefghijklmnopqrstuvwxyz\"):\n",
    "            has_lower = True\n",
    "        if check(c, \"0123456789\"):\n",
    "            has_digits = True\n",
    "        if check(c, \"!@#$%^&*()-_=+[{]}\\\\|;:'\\\",<.>/?`~\"):\n",
    "            has_special = True\n",
    "            \n",
    "    if len >= 8 and has_upper and has_lower and has_special and has_digits:\n",
    "        return True\n",
    "    else:\n",
    "        return False\n",
    "#tu codigo aquí"
   ]
  },
  {
   "cell_type": "code",
   "execution_count": 192,
   "metadata": {},
   "outputs": [
    {
     "name": "stderr",
     "output_type": "stream",
     "text": [
      "....................................................................................................\n",
      "----------------------------------------------------------------------\n",
      "Ran 100 tests in 0.033s\n",
      "\n",
      "OK\n"
     ]
    }
   ],
   "source": [
    "# Para testear tu función\n",
    "test_pass(check_pass)"
   ]
  }
 ],
 "metadata": {
  "kernelspec": {
   "display_name": "Python 3",
   "language": "python",
   "name": "python3"
  },
  "language_info": {
   "codemirror_mode": {
    "name": "ipython",
    "version": 3
   },
   "file_extension": ".py",
   "mimetype": "text/x-python",
   "name": "python",
   "nbconvert_exporter": "python",
   "pygments_lexer": "ipython3",
   "version": "3.13.3"
  }
 },
 "nbformat": 4,
 "nbformat_minor": 4
}
